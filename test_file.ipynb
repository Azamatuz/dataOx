{
 "cells": [
  {
   "cell_type": "code",
   "execution_count": 1,
   "metadata": {},
   "outputs": [],
   "source": [
    "from num2words import num2words"
   ]
  },
  {
   "cell_type": "code",
   "execution_count": 10,
   "metadata": {},
   "outputs": [],
   "source": [
    "import random\n",
    "\n",
    "class Floor(object):\n",
    "    def __init__(self):\n",
    "        self.level_number = int\n",
    "        self.passangers_number_wating = int\n",
    "        self.destination_list = []\n",
    "    def set_floor(self, max_floor):\n",
    "        self.passangers_number_wating = random.randint(0, 10)\n",
    "        self.destination_list = [random.randint(1, max_floor) for i in range(self.passangers_number_wating)]\n",
    "        return self"
   ]
  },
  {
   "cell_type": "code",
   "execution_count": 12,
   "metadata": {},
   "outputs": [
    {
     "name": "stdout",
     "output_type": "stream",
     "text": [
      "[5, 1, 2, 1]\n",
      "[5]\n",
      "[]\n",
      "[4, 4, 3, 3]\n",
      "[2, 4, 4, 3, 5, 3, 1, 1, 2, 2]\n"
     ]
    }
   ],
   "source": [
    "var_list = []\n",
    "for i in range(5):\n",
    "    locals()[num2words(i)] = Floor()\n",
    "    locals()[num2words(i)].set_floor(5)\n",
    "    print(locals()[num2words(i)].destination_list)"
   ]
  },
  {
   "cell_type": "code",
   "execution_count": 15,
   "metadata": {},
   "outputs": [
    {
     "name": "stdout",
     "output_type": "stream",
     "text": [
      "[5]\n"
     ]
    }
   ],
   "source": [
    "print(locals()['one'].destination_list)"
   ]
  },
  {
   "cell_type": "code",
   "execution_count": 26,
   "metadata": {},
   "outputs": [],
   "source": [
    "def up_direction(top_floor):\n",
    "    floor = 0\n",
    "    while floor < top_floor:\n",
    "        yield floor\n",
    "        floor += 1\n",
    "up_floor = up_direction(5)"
   ]
  },
  {
   "cell_type": "code",
   "execution_count": 27,
   "metadata": {},
   "outputs": [
    {
     "name": "stdout",
     "output_type": "stream",
     "text": [
      "0\n",
      "1\n",
      "2\n",
      "3\n"
     ]
    }
   ],
   "source": [
    "print(next(up_floor))\n",
    "print(next(up_floor))\n",
    "print(next(up_floor))\n",
    "print(next(up_floor))"
   ]
  },
  {
   "cell_type": "code",
   "execution_count": 56,
   "metadata": {},
   "outputs": [
    {
     "name": "stdout",
     "output_type": "stream",
     "text": [
      "1\n",
      "[8, 2, 2, 2, 7, 2, 4, 9, 4]\n",
      "2\n",
      "[3, 10, 9, 8, 4, 3, 4, 1]\n",
      "3\n",
      "[5, 6, 5, 7, 2, 4, 10, 6, 7, 9]\n",
      "4\n",
      "[5, 10, 3, 2, 6, 8, 10, 2, 8, 10]\n",
      "5\n",
      "[3, 1, 6, 1, 7, 8, 8, 7, 4]\n"
     ]
    }
   ],
   "source": [
    "import random\n",
    "for floor in range(5):\n",
    "    print(floor+1)\n",
    "    ignore = [floor+1]\n",
    "    #destination_list = [random.randint(1, 10) for i in range(10)]\n",
    "    destination_list = [i for i in [random.randint(1, 10) for i in range(10)] if i not in ignore]\n",
    "    print(destination_list)"
   ]
  }
 ],
 "metadata": {
  "interpreter": {
   "hash": "f2811b8d39c197ffc8aab87584de09d9e3ce404dda04a6e6ce623b17325ae47c"
  },
  "kernelspec": {
   "display_name": "Python 3.10.1 ('dataOx--uvixb9E')",
   "language": "python",
   "name": "python3"
  },
  "language_info": {
   "codemirror_mode": {
    "name": "ipython",
    "version": 3
   },
   "file_extension": ".py",
   "mimetype": "text/x-python",
   "name": "python",
   "nbconvert_exporter": "python",
   "pygments_lexer": "ipython3",
   "version": "3.10.1"
  },
  "orig_nbformat": 4
 },
 "nbformat": 4,
 "nbformat_minor": 2
}
