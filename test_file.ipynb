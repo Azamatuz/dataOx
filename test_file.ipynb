{
 "cells": [
  {
   "cell_type": "code",
   "execution_count": 1,
   "metadata": {},
   "outputs": [],
   "source": [
    "from num2words import num2words"
   ]
  },
  {
   "cell_type": "code",
   "execution_count": 6,
   "metadata": {},
   "outputs": [],
   "source": [
    "import random\n",
    "\n",
    "class Floor(object):\n",
    "    def __init__(self):\n",
    "        self.level_number = int\n",
    "        self.passangers_number_wating = int\n",
    "        self.destination_list = []\n",
    "    def set_floor(self, max_floor):\n",
    "        self.level_number = floor_number + 1 \n",
    "        self.passangers_number_wating = random.randint(0, 10)\n",
    "        self.destination_list = [random.randint(1, max_floor) for i in range(self.passangers_number_wating)]\n",
    "        return self"
   ]
  },
  {
   "cell_type": "code",
   "execution_count": 2,
   "metadata": {},
   "outputs": [
    {
     "name": "stdout",
     "output_type": "stream",
     "text": [
      "['zero', 'one', 'two', 'three', 'four']\n"
     ]
    }
   ],
   "source": [
    "var_list = []\n",
    "for i in range(5):\n",
    "    locals()[num2words(i)] = Floor()\n",
    "    print(locals()[num2words(i)])"
   ]
  },
  {
   "cell_type": "code",
   "execution_count": 5,
   "metadata": {},
   "outputs": [
    {
     "name": "stdout",
     "output_type": "stream",
     "text": [
      "None\n"
     ]
    }
   ],
   "source": [
    "var_list_a = []\n",
    "a = None\n",
    "\n",
    "print(a)\n",
    "\n"
   ]
  }
 ],
 "metadata": {
  "interpreter": {
   "hash": "f2811b8d39c197ffc8aab87584de09d9e3ce404dda04a6e6ce623b17325ae47c"
  },
  "kernelspec": {
   "display_name": "Python 3.10.1 ('dataOx--uvixb9E')",
   "language": "python",
   "name": "python3"
  },
  "language_info": {
   "codemirror_mode": {
    "name": "ipython",
    "version": 3
   },
   "file_extension": ".py",
   "mimetype": "text/x-python",
   "name": "python",
   "nbconvert_exporter": "python",
   "pygments_lexer": "ipython3",
   "version": "3.10.1"
  },
  "orig_nbformat": 4
 },
 "nbformat": 4,
 "nbformat_minor": 2
}
